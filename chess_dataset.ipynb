{
 "cells": [
  {
   "cell_type": "markdown",
   "id": "48107030-2721-4da2-ac1e-a477f51df015",
   "metadata": {},
   "source": [
    "# Chess Dataset"
   ]
  },
  {
   "cell_type": "markdown",
   "id": "350cc8bd-5498-46c1-83c0-90cfec450069",
   "metadata": {},
   "source": [
    "### Task  : Provide an update on the following project task   \n",
    "1. Bring the raw data into a Pandas Data Frame, clean and transform it, and document the process in a Python file.\n",
    "2. This file should then be uploaded to GitHub, providing the group with a starting point for discussion at the next meeting. "
   ]
  },
  {
   "cell_type": "code",
   "execution_count": null,
   "id": "8e03053d-0815-4791-9aa4-31fffad4a8b1",
   "metadata": {},
   "outputs": [
    {
     "data": {
      "text/plain": [
       "True"
      ]
     },
     "execution_count": 224,
     "metadata": {},
     "output_type": "execute_result"
    }
   ],
   "source": [
    "# Import necessary libraries\n",
    "import pandas as pd\n",
    "from os import path\n",
    "\n",
    "#Load the data\n",
    "df = pd.read_csv(\"C:\\\\Users\\\\Count Dracula\\\\pda8\\\\code\\\\secondsemestercodes\\\\games.csv\")\n",
    "\n",
    "path.exists(\"C:\\\\Users\\\\Count Dracula\\\\pda8\\\\code\\\\secondsemestercodes\\\\games.csv\")"
   ]
  },
  {
   "cell_type": "markdown",
   "id": "ff9716c9-d240-4ecc-9cbf-b0d661e35e37",
   "metadata": {},
   "source": [
    "### 1. Summary of the data\n",
    "Format of the data, how many records are there, what can be determined from looking at the data."
   ]
  },
  {
   "cell_type": "code",
   "execution_count": null,
   "id": "a5c5dbbf-0dc1-40f2-a08f-6a7c5ec762df",
   "metadata": {},
   "outputs": [
    {
     "name": "stdout",
     "output_type": "stream",
     "text": [
      "<class 'pandas.core.frame.DataFrame'>\n",
      "RangeIndex: 20058 entries, 0 to 20057\n",
      "Data columns (total 16 columns):\n",
      " #   Column          Non-Null Count  Dtype  \n",
      "---  ------          --------------  -----  \n",
      " 0   id              20058 non-null  object \n",
      " 1   rated           20058 non-null  bool   \n",
      " 2   created_at      20058 non-null  float64\n",
      " 3   last_move_at    20058 non-null  float64\n",
      " 4   turns           20058 non-null  int64  \n",
      " 5   victory_status  20058 non-null  object \n",
      " 6   winner          20058 non-null  object \n",
      " 7   increment_code  20058 non-null  object \n",
      " 8   white_id        20058 non-null  object \n",
      " 9   white_rating    20058 non-null  int64  \n",
      " 10  black_id        20058 non-null  object \n",
      " 11  black_rating    20058 non-null  int64  \n",
      " 12  moves           20058 non-null  object \n",
      " 13  opening_eco     20058 non-null  object \n",
      " 14  opening_name    20058 non-null  object \n",
      " 15  opening_ply     20058 non-null  int64  \n",
      "dtypes: bool(1), float64(2), int64(4), object(9)\n",
      "memory usage: 2.3+ MB\n",
      "None\n"
     ]
    }
   ],
   "source": [
    "# 1. Summary of the data\n",
    "print(df.info())"
   ]
  },
  {
   "cell_type": "code",
   "execution_count": 258,
   "id": "0b89d7ca-56bd-4054-b28b-6d6ab0460d4a",
   "metadata": {},
   "outputs": [
    {
     "name": "stdout",
     "output_type": "stream",
     "text": [
      "First few rows of the dataset dataset:\n",
      "         id  rated          created_at        last_move_at  turns  \\\n",
      "0  TZJHLljE  False 2017-07-14 02:40:00 2017-07-14 02:40:00     13   \n",
      "1  l1NXvwaE   True 2017-07-14 02:40:00 2017-07-14 02:40:00     16   \n",
      "2  mIICvQHh   True 2017-07-14 02:40:00 2017-07-14 02:40:00     61   \n",
      "3  kWKvrqYL   True 2017-07-14 02:40:00 2017-07-14 02:40:00     61   \n",
      "4  9tXo1AUZ   True 2017-07-14 02:40:00 2017-07-14 02:40:00     95   \n",
      "\n",
      "  victory_status winner increment_code       white_id  white_rating  \\\n",
      "0      outoftime  white           15+2       bourgris          1500   \n",
      "1         resign  black           5+10           a-00          1322   \n",
      "2           mate  white           5+10         ischia          1496   \n",
      "3           mate  white           20+0  daniamurashov          1439   \n",
      "4           mate  white           30+3      nik221107          1523   \n",
      "\n",
      "       black_id  black_rating  \\\n",
      "0          a-00          1191   \n",
      "1     skinnerua          1261   \n",
      "2          a-00          1500   \n",
      "3  adivanov2009          1454   \n",
      "4  adivanov2009          1469   \n",
      "\n",
      "                                               moves opening_eco  \\\n",
      "0  d4 d5 c4 c6 cxd5 e6 dxe6 fxe6 Nf3 Bb4+ Nc3 Ba5...         D10   \n",
      "1  d4 Nc6 e4 e5 f4 f6 dxe5 fxe5 fxe5 Nxe5 Qd4 Nc6...         B00   \n",
      "2  e4 e5 d3 d6 Be3 c6 Be2 b5 Nd2 a5 a4 c5 axb5 Nc...         C20   \n",
      "3  d4 d5 Nf3 Bf5 Nc3 Nf6 Bf4 Ng4 e3 Nc6 Be2 Qd7 O...         D02   \n",
      "4  e4 e5 Nf3 d6 d4 Nc6 d5 Nb4 a3 Na6 Nc3 Be7 b4 N...         C41   \n",
      "\n",
      "                             opening_name  opening_ply  \n",
      "0        Slav Defense: Exchange Variation            5  \n",
      "1  Nimzowitsch Defense: Kennedy Variation            4  \n",
      "2   King's Pawn Game: Leonardis Variation            3  \n",
      "3  Queen's Pawn Game: Zukertort Variation            3  \n",
      "4                        Philidor Defense            5  \n"
     ]
    }
   ],
   "source": [
    "# Display the first few rows of the dataset\n",
    "print(\"First few rows of the dataset dataset:\")\n",
    "\n",
    "print(df.head())"
   ]
  },
  {
   "cell_type": "markdown",
   "id": "22621080-fcc4-4d30-9430-b6fefb28c403",
   "metadata": {},
   "source": [
    "### 2. Data Cleaning and Transformation"
   ]
  },
  {
   "cell_type": "code",
   "execution_count": null,
   "id": "516a43aa-a14b-465b-bdc2-b6d2c9ccaf8b",
   "metadata": {},
   "outputs": [
    {
     "name": "stdout",
     "output_type": "stream",
     "text": [
      "id                0\n",
      "rated             0\n",
      "created_at        0\n",
      "last_move_at      0\n",
      "turns             0\n",
      "victory_status    0\n",
      "winner            0\n",
      "increment_code    0\n",
      "white_id          0\n",
      "white_rating      0\n",
      "black_id          0\n",
      "black_rating      0\n",
      "moves             0\n",
      "opening_eco       0\n",
      "opening_name      0\n",
      "opening_ply       0\n",
      "dtype: int64\n"
     ]
    }
   ],
   "source": [
    "# Check for missing values\n",
    "print(df.isnull().sum()) #checks every value in the DataFrame df to see if it's missing."
   ]
  },
  {
   "cell_type": "code",
   "execution_count": null,
   "id": "f5ccf687",
   "metadata": {},
   "outputs": [
    {
     "data": {
      "text/html": [
       "<div>\n",
       "<style scoped>\n",
       "    .dataframe tbody tr th:only-of-type {\n",
       "        vertical-align: middle;\n",
       "    }\n",
       "\n",
       "    .dataframe tbody tr th {\n",
       "        vertical-align: top;\n",
       "    }\n",
       "\n",
       "    .dataframe thead th {\n",
       "        text-align: right;\n",
       "    }\n",
       "</style>\n",
       "<table border=\"1\" class=\"dataframe\">\n",
       "  <thead>\n",
       "    <tr style=\"text-align: right;\">\n",
       "      <th></th>\n",
       "      <th>created_at</th>\n",
       "      <th>last_move_at</th>\n",
       "      <th>turns</th>\n",
       "      <th>white_rating</th>\n",
       "      <th>black_rating</th>\n",
       "      <th>opening_ply</th>\n",
       "    </tr>\n",
       "  </thead>\n",
       "  <tbody>\n",
       "    <tr>\n",
       "      <th>count</th>\n",
       "      <td>19629</td>\n",
       "      <td>19629</td>\n",
       "      <td>19629.000000</td>\n",
       "      <td>19629.000000</td>\n",
       "      <td>19629.000000</td>\n",
       "      <td>19629.000000</td>\n",
       "    </tr>\n",
       "    <tr>\n",
       "      <th>mean</th>\n",
       "      <td>2017-01-01 20:26:16.585664256</td>\n",
       "      <td>2017-01-01 20:34:28.205206784</td>\n",
       "      <td>60.458607</td>\n",
       "      <td>1596.090224</td>\n",
       "      <td>1588.324622</td>\n",
       "      <td>4.804422</td>\n",
       "    </tr>\n",
       "    <tr>\n",
       "      <th>min</th>\n",
       "      <td>2013-08-17 20:06:40</td>\n",
       "      <td>2013-08-17 20:06:40</td>\n",
       "      <td>1.000000</td>\n",
       "      <td>784.000000</td>\n",
       "      <td>789.000000</td>\n",
       "      <td>1.000000</td>\n",
       "    </tr>\n",
       "    <tr>\n",
       "      <th>25%</th>\n",
       "      <td>2016-11-19 15:40:00</td>\n",
       "      <td>2016-11-19 15:40:00</td>\n",
       "      <td>37.000000</td>\n",
       "      <td>1400.000000</td>\n",
       "      <td>1393.000000</td>\n",
       "      <td>3.000000</td>\n",
       "    </tr>\n",
       "    <tr>\n",
       "      <th>50%</th>\n",
       "      <td>2017-06-04 18:13:20</td>\n",
       "      <td>2017-06-04 18:13:20</td>\n",
       "      <td>55.000000</td>\n",
       "      <td>1567.000000</td>\n",
       "      <td>1562.000000</td>\n",
       "      <td>4.000000</td>\n",
       "    </tr>\n",
       "    <tr>\n",
       "      <th>75%</th>\n",
       "      <td>2017-07-16 01:53:20</td>\n",
       "      <td>2017-07-16 01:53:20</td>\n",
       "      <td>79.000000</td>\n",
       "      <td>1791.000000</td>\n",
       "      <td>1783.000000</td>\n",
       "      <td>6.000000</td>\n",
       "    </tr>\n",
       "    <tr>\n",
       "      <th>max</th>\n",
       "      <td>2017-09-04 01:53:20</td>\n",
       "      <td>2017-09-04 01:53:20</td>\n",
       "      <td>349.000000</td>\n",
       "      <td>2700.000000</td>\n",
       "      <td>2723.000000</td>\n",
       "      <td>28.000000</td>\n",
       "    </tr>\n",
       "    <tr>\n",
       "      <th>std</th>\n",
       "      <td>NaN</td>\n",
       "      <td>NaN</td>\n",
       "      <td>33.502852</td>\n",
       "      <td>290.165038</td>\n",
       "      <td>290.164447</td>\n",
       "      <td>2.792791</td>\n",
       "    </tr>\n",
       "  </tbody>\n",
       "</table>\n",
       "</div>"
      ],
      "text/plain": [
       "                          created_at                   last_move_at  \\\n",
       "count                          19629                          19629   \n",
       "mean   2017-01-01 20:26:16.585664256  2017-01-01 20:34:28.205206784   \n",
       "min              2013-08-17 20:06:40            2013-08-17 20:06:40   \n",
       "25%              2016-11-19 15:40:00            2016-11-19 15:40:00   \n",
       "50%              2017-06-04 18:13:20            2017-06-04 18:13:20   \n",
       "75%              2017-07-16 01:53:20            2017-07-16 01:53:20   \n",
       "max              2017-09-04 01:53:20            2017-09-04 01:53:20   \n",
       "std                              NaN                            NaN   \n",
       "\n",
       "              turns  white_rating  black_rating   opening_ply  \n",
       "count  19629.000000  19629.000000  19629.000000  19629.000000  \n",
       "mean      60.458607   1596.090224   1588.324622      4.804422  \n",
       "min        1.000000    784.000000    789.000000      1.000000  \n",
       "25%       37.000000   1400.000000   1393.000000      3.000000  \n",
       "50%       55.000000   1567.000000   1562.000000      4.000000  \n",
       "75%       79.000000   1791.000000   1783.000000      6.000000  \n",
       "max      349.000000   2700.000000   2723.000000     28.000000  \n",
       "std       33.502852    290.165038    290.164447      2.792791  "
      ]
     },
     "execution_count": 247,
     "metadata": {},
     "output_type": "execute_result"
    }
   ],
   "source": [
    "df.describe()   #statistical summary of the numerical columns of dataset"
   ]
  },
  {
   "cell_type": "code",
   "execution_count": null,
   "id": "ee90e5b0-f3f5-474a-a598-49b7d59ce99c",
   "metadata": {},
   "outputs": [
    {
     "name": "stdout",
     "output_type": "stream",
     "text": [
      "Empty DataFrame\n",
      "Columns: [id, rated, created_at, last_move_at, turns, victory_status, winner, increment_code, white_id, white_rating, black_id, black_rating, moves, opening_eco, opening_name, opening_ply]\n",
      "Index: []\n"
     ]
    }
   ],
   "source": [
    "# Remove duplicates\n",
    "\n",
    "# Find duplicates\n",
    "duplicates = df[df.duplicated()]\n",
    "print(duplicates)"
   ]
  },
  {
   "cell_type": "markdown",
   "id": "491f46f4",
   "metadata": {},
   "source": [
    "### Convert Timestamps: Change these columns format (created_at) and (last_move_at) to date formats."
   ]
  },
  {
   "cell_type": "code",
   "execution_count": 261,
   "id": "d9be5149",
   "metadata": {},
   "outputs": [
    {
     "name": "stdout",
     "output_type": "stream",
     "text": [
      "           created_at        last_move_at\n",
      "0 2017-07-14 02:40:00 2017-07-14 02:40:00\n",
      "1 2017-07-14 02:40:00 2017-07-14 02:40:00\n",
      "2 2017-07-14 02:40:00 2017-07-14 02:40:00\n",
      "3 2017-07-14 02:40:00 2017-07-14 02:40:00\n",
      "4 2017-07-14 02:40:00 2017-07-14 02:40:00\n"
     ]
    }
   ],
   "source": [
    "# Convert 'created_at' and 'last_move_at' to datetime format\n",
    "df['created_at'] = pd.to_datetime(df['created_at'], unit='ms')\n",
    "df['last_move_at'] = pd.to_datetime(df['last_move_at'], unit='ms')\n",
    "\n",
    "# Print the first 5 rows of the relevant columns\n",
    "print(df[['created_at', 'last_move_at']].head())\n"
   ]
  },
  {
   "cell_type": "markdown",
   "id": "4e5187b0",
   "metadata": {},
   "source": [
    " ## Check for Inconsistent Data"
   ]
  },
  {
   "cell_type": "markdown",
   "id": "b01f1256",
   "metadata": {},
   "source": [
    "### Check for Duplicates:"
   ]
  },
  {
   "cell_type": "code",
   "execution_count": 264,
   "id": "d73b20d5",
   "metadata": {},
   "outputs": [
    {
     "name": "stdout",
     "output_type": "stream",
     "text": [
      "Empty DataFrame\n",
      "Columns: [id, rated, created_at, last_move_at, turns, victory_status, winner, increment_code, white_id, white_rating, black_id, black_rating, moves, opening_eco, opening_name, opening_ply]\n",
      "Index: []\n"
     ]
    }
   ],
   "source": [
    "# Find duplicates\n",
    "duplicates = df[df.duplicated()]\n",
    "print(duplicates)"
   ]
  },
  {
   "cell_type": "markdown",
   "id": "da656158",
   "metadata": {},
   "source": [
    "### Check for Outliers : "
   ]
  },
  {
   "cell_type": "code",
   "execution_count": null,
   "id": "bab512b5",
   "metadata": {},
   "outputs": [
    {
     "name": "stdout",
     "output_type": "stream",
     "text": [
      "Empty DataFrame\n",
      "Columns: [white_rating, black_rating]\n",
      "Index: []\n"
     ]
    }
   ],
   "source": [
    "# Check rating columns for values outside expected chess rating range (100-3000)\n",
    "outliers = df[(df['white_rating'] < 100) | (df['white_rating'] > 3000) |\n",
    "              (df['black_rating'] < 100) | (df['black_rating'] > 3000)]\n",
    "\n",
    "# Print \n",
    "print(outliers[['white_rating', 'black_rating']])"
   ]
  },
  {
   "cell_type": "code",
   "execution_count": 256,
   "id": "75e35048",
   "metadata": {},
   "outputs": [],
   "source": [
    "# Convert white_rating and black_rating to numeric\n",
    "df['white_rating'] = pd.to_numeric(df['white_rating'], errors='coerce')\n",
    "df['black_rating'] = pd.to_numeric(df['black_rating'], errors='coerce')"
   ]
  },
  {
   "cell_type": "code",
   "execution_count": 236,
   "id": "67c6070c",
   "metadata": {},
   "outputs": [],
   "source": [
    "# Convert rated column to Boolean\n",
    "df['rated'] = df['rated'].astype(bool)"
   ]
  },
  {
   "cell_type": "code",
   "execution_count": 237,
   "id": "858ccc4e",
   "metadata": {},
   "outputs": [],
   "source": [
    "# Convert turns and opening_ply columns to integer\n",
    "df['turns'] = df['turns'].astype(int)\n",
    "df['opening_ply'] = df['opening_ply'].astype(int)"
   ]
  },
  {
   "cell_type": "code",
   "execution_count": null,
   "id": "10219722",
   "metadata": {},
   "outputs": [
    {
     "name": "stdout",
     "output_type": "stream",
     "text": [
      "id                        object\n",
      "rated                       bool\n",
      "created_at        datetime64[ns]\n",
      "last_move_at      datetime64[ns]\n",
      "turns                      int32\n",
      "victory_status            object\n",
      "winner                    object\n",
      "increment_code            object\n",
      "white_id                  object\n",
      "white_rating               int64\n",
      "black_id                  object\n",
      "black_rating               int64\n",
      "moves                     object\n",
      "opening_eco               object\n",
      "opening_name              object\n",
      "opening_ply                int32\n",
      "dtype: object\n"
     ]
    }
   ],
   "source": [
    "# Check data types\n",
    "print(df.dtypes)"
   ]
  },
  {
   "cell_type": "code",
   "execution_count": 257,
   "id": "9ff307d3",
   "metadata": {},
   "outputs": [
    {
     "name": "stdout",
     "output_type": "stream",
     "text": [
      "Column names before stripping: ['id', 'rated', 'created_at', 'last_move_at', 'turns', 'victory_status', 'winner', 'increment_code', 'white_id', 'white_rating', 'black_id', 'black_rating', 'moves', 'opening_eco', 'opening_name', 'opening_ply']\n",
      "Column names after stripping: ['id', 'rated', 'created_at', 'last_move_at', 'turns', 'victory_status', 'winner', 'increment_code', 'white_id', 'white_rating', 'black_id', 'black_rating', 'moves', 'opening_eco', 'opening_name', 'opening_ply']\n"
     ]
    }
   ],
   "source": [
    "# Check and remove extra spaces in column names\n",
    "print(\"Column names before stripping:\", df.columns.tolist())\n",
    "df.columns = df.columns.str.strip()\n",
    "print(\"Column names after stripping:\", df.columns.tolist())"
   ]
  },
  {
   "cell_type": "code",
   "execution_count": 242,
   "id": "36db8e33-c7b4-486a-9a7b-9b5f4bbdcaff",
   "metadata": {},
   "outputs": [
    {
     "name": "stdout",
     "output_type": "stream",
     "text": [
      "Cleaned dataset:\n",
      "         id  rated          created_at        last_move_at  turns  \\\n",
      "0  TZJHLljE  False 2017-07-14 02:40:00 2017-07-14 02:40:00     13   \n",
      "1  l1NXvwaE   True 2017-07-14 02:40:00 2017-07-14 02:40:00     16   \n",
      "2  mIICvQHh   True 2017-07-14 02:40:00 2017-07-14 02:40:00     61   \n",
      "3  kWKvrqYL   True 2017-07-14 02:40:00 2017-07-14 02:40:00     61   \n",
      "4  9tXo1AUZ   True 2017-07-14 02:40:00 2017-07-14 02:40:00     95   \n",
      "\n",
      "  victory_status winner increment_code       white_id  white_rating  \\\n",
      "0      outoftime  white           15+2       bourgris          1500   \n",
      "1         resign  black           5+10           a-00          1322   \n",
      "2           mate  white           5+10         ischia          1496   \n",
      "3           mate  white           20+0  daniamurashov          1439   \n",
      "4           mate  white           30+3      nik221107          1523   \n",
      "\n",
      "       black_id  black_rating  \\\n",
      "0          a-00          1191   \n",
      "1     skinnerua          1261   \n",
      "2          a-00          1500   \n",
      "3  adivanov2009          1454   \n",
      "4  adivanov2009          1469   \n",
      "\n",
      "                                               moves opening_eco  \\\n",
      "0  d4 d5 c4 c6 cxd5 e6 dxe6 fxe6 Nf3 Bb4+ Nc3 Ba5...         D10   \n",
      "1  d4 Nc6 e4 e5 f4 f6 dxe5 fxe5 fxe5 Nxe5 Qd4 Nc6...         B00   \n",
      "2  e4 e5 d3 d6 Be3 c6 Be2 b5 Nd2 a5 a4 c5 axb5 Nc...         C20   \n",
      "3  d4 d5 Nf3 Bf5 Nc3 Nf6 Bf4 Ng4 e3 Nc6 Be2 Qd7 O...         D02   \n",
      "4  e4 e5 Nf3 d6 d4 Nc6 d5 Nb4 a3 Na6 Nc3 Be7 b4 N...         C41   \n",
      "\n",
      "                             opening_name  opening_ply  \n",
      "0        Slav Defense: Exchange Variation            5  \n",
      "1  Nimzowitsch Defense: Kennedy Variation            4  \n",
      "2   King's Pawn Game: Leonardis Variation            3  \n",
      "3  Queen's Pawn Game: Zukertort Variation            3  \n",
      "4                        Philidor Defense            5  \n"
     ]
    }
   ],
   "source": [
    "# Display the cleaned dataset\n",
    "print(\"Cleaned dataset:\")\n",
    "print(df.head())"
   ]
  },
  {
   "cell_type": "code",
   "execution_count": 243,
   "id": "a54ddddf-d1b0-464c-8a04-56b94b0865b1",
   "metadata": {},
   "outputs": [],
   "source": [
    "# Save the cleaned dataset to a new CSV file\n",
    "df.to_csv('cleaned_chess_dataset.csv', index=False)"
   ]
  },
  {
   "cell_type": "markdown",
   "id": "52824cd2",
   "metadata": {},
   "source": [
    "Durng cleaning and transformation process I checked for missing values, outliers, and extraspaces.  I have converted some columns' data types for better analysis."
   ]
  },
  {
   "cell_type": "markdown",
   "id": "1222a610",
   "metadata": {},
   "source": []
  }
 ],
 "metadata": {
  "kernelspec": {
   "display_name": "Python 3 (ipykernel)",
   "language": "python",
   "name": "python3"
  },
  "language_info": {
   "codemirror_mode": {
    "name": "ipython",
    "version": 3
   },
   "file_extension": ".py",
   "mimetype": "text/x-python",
   "name": "python",
   "nbconvert_exporter": "python",
   "pygments_lexer": "ipython3",
   "version": "3.12.2"
  }
 },
 "nbformat": 4,
 "nbformat_minor": 5
}
